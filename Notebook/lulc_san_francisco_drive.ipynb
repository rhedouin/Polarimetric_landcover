{
 "cells": [
  {
   "cell_type": "markdown",
   "metadata": {
    "colab_type": "text",
    "id": "view-in-github"
   },
   "source": [
    "<a href=\"https://colab.research.google.com/github/rhedouin/Polymetric_landcover/blob/main/lulc_san_francisco.ipynb\" target=\"_parent\"><img src=\"https://colab.research.google.com/assets/colab-badge.svg\" alt=\"Open In Colab\"/></a>"
   ]
  },
  {
   "cell_type": "code",
   "execution_count": 3,
   "metadata": {
    "id": "AXQQkUS1Ewjd"
   },
   "outputs": [
    {
     "data": {
      "text/html": [
       "\n",
       "            <style>\n",
       "                .geemap-dark {\n",
       "                    --jp-widgets-color: white;\n",
       "                    --jp-widgets-label-color: white;\n",
       "                    --jp-ui-font-color1: white;\n",
       "                    --jp-layout-color2: #454545;\n",
       "                    background-color: #383838;\n",
       "                }\n",
       "\n",
       "                .geemap-dark .jupyter-button {\n",
       "                    --jp-layout-color3: #383838;\n",
       "                }\n",
       "\n",
       "                .geemap-colab {\n",
       "                    background-color: var(--colab-primary-surface-color, white);\n",
       "                }\n",
       "\n",
       "                .geemap-colab .jupyter-button {\n",
       "                    --jp-layout-color3: var(--colab-primary-surface-color, white);\n",
       "                }\n",
       "            </style>\n",
       "            "
      ],
      "text/plain": [
       "<IPython.core.display.HTML object>"
      ]
     },
     "metadata": {},
     "output_type": "display_data"
    }
   ],
   "source": [
    "# Install required packages\n",
    "!pip install -q earthengine-api geemap"
   ]
  },
  {
   "cell_type": "code",
   "execution_count": 4,
   "metadata": {
    "id": "IudxRtAxFSrc"
   },
   "outputs": [
    {
     "data": {
      "text/html": [
       "\n",
       "            <style>\n",
       "                .geemap-dark {\n",
       "                    --jp-widgets-color: white;\n",
       "                    --jp-widgets-label-color: white;\n",
       "                    --jp-ui-font-color1: white;\n",
       "                    --jp-layout-color2: #454545;\n",
       "                    background-color: #383838;\n",
       "                }\n",
       "\n",
       "                .geemap-dark .jupyter-button {\n",
       "                    --jp-layout-color3: #383838;\n",
       "                }\n",
       "\n",
       "                .geemap-colab {\n",
       "                    background-color: var(--colab-primary-surface-color, white);\n",
       "                }\n",
       "\n",
       "                .geemap-colab .jupyter-button {\n",
       "                    --jp-layout-color3: var(--colab-primary-surface-color, white);\n",
       "                }\n",
       "            </style>\n",
       "            "
      ],
      "text/plain": [
       "<IPython.core.display.HTML object>"
      ]
     },
     "metadata": {},
     "output_type": "display_data"
    }
   ],
   "source": [
    "# Change this to your EE Project (find your project name at https://code.earthengine.google.com/)\n",
    "EE_PROJECT='ee-renaudhedouin'"
   ]
  },
  {
   "cell_type": "code",
   "execution_count": 5,
   "metadata": {
    "colab": {
     "base_uri": "https://localhost:8080/",
     "height": 74
    },
    "id": "LZktu6r_Ejkt",
    "outputId": "1d499950-eab5-46ac-e3f0-be0101955d3a"
   },
   "outputs": [
    {
     "data": {
      "text/html": [
       "\n",
       "            <style>\n",
       "                .geemap-dark {\n",
       "                    --jp-widgets-color: white;\n",
       "                    --jp-widgets-label-color: white;\n",
       "                    --jp-ui-font-color1: white;\n",
       "                    --jp-layout-color2: #454545;\n",
       "                    background-color: #383838;\n",
       "                }\n",
       "\n",
       "                .geemap-dark .jupyter-button {\n",
       "                    --jp-layout-color3: #383838;\n",
       "                }\n",
       "\n",
       "                .geemap-colab {\n",
       "                    background-color: var(--colab-primary-surface-color, white);\n",
       "                }\n",
       "\n",
       "                .geemap-colab .jupyter-button {\n",
       "                    --jp-layout-color3: var(--colab-primary-surface-color, white);\n",
       "                }\n",
       "            </style>\n",
       "            "
      ],
      "text/plain": [
       "<IPython.core.display.HTML object>"
      ]
     },
     "metadata": {},
     "output_type": "display_data"
    },
    {
     "name": "stdout",
     "output_type": "stream",
     "text": [
      "Tâche en cours...\n",
      "Tâche en cours...\n",
      "Tâche en cours...\n",
      "Tâche en cours...\n",
      "Tâche en cours...\n",
      "Tâche en cours...\n",
      "Tâche en cours...\n",
      "Tâche en cours...\n",
      "Tâche en cours...\n",
      "Tâche en cours...\n",
      "Tâche en cours...\n",
      "Tâche en cours...\n",
      "Tâche en cours...\n",
      "Tâche en cours...\n",
      "Tâche en cours...\n",
      "Tâche en cours...\n",
      "Tâche en cours...\n",
      "Tâche en cours...\n",
      "Tâche en cours...\n",
      "Tâche en cours...\n",
      "Tâche en cours...\n",
      "Tâche en cours...\n",
      "Tâche en cours...\n",
      "Tâche en cours...\n",
      "État final de la tâche :\n",
      "{'attempt': 1,\n",
      " 'batch_eecu_usage_seconds': 43.25393295288086,\n",
      " 'creation_timestamp_ms': 1734454222506,\n",
      " 'description': 'ESA_LandCover_COG',\n",
      " 'destination_uris': ['https://drive.google.com/#folders/1znoGPImAw9yV0wgwrGQNuQfNXsVgjgbX'],\n",
      " 'id': 'IQQQJVL56OYF6SQQM6LXG4TP',\n",
      " 'name': 'projects/ee-renaudhedouin/operations/IQQQJVL56OYF6SQQM6LXG4TP',\n",
      " 'priority': 100,\n",
      " 'start_timestamp_ms': 1734454237532,\n",
      " 'state': 'COMPLETED',\n",
      " 'task_type': 'EXPORT_IMAGE',\n",
      " 'update_timestamp_ms': 1734454476311}\n",
      "ESA Land Cover export task: {'state': 'COMPLETED', 'description': 'ESA_LandCover_COG', 'priority': 100, 'creation_timestamp_ms': 1734454222506, 'update_timestamp_ms': 1734454476311, 'start_timestamp_ms': 1734454237532, 'task_type': 'EXPORT_IMAGE', 'destination_uris': ['https://drive.google.com/#folders/1znoGPImAw9yV0wgwrGQNuQfNXsVgjgbX'], 'attempt': 1, 'batch_eecu_usage_seconds': 43.25393295288086, 'id': 'IQQQJVL56OYF6SQQM6LXG4TP', 'name': 'projects/ee-renaudhedouin/operations/IQQQJVL56OYF6SQQM6LXG4TP'}\n"
     ]
    }
   ],
   "source": [
    "# Import required libraries\n",
    "import time\n",
    "import pprint\n",
    "import ee\n",
    "import geemap\n",
    "from datetime import datetime\n",
    "\n",
    "# Authenticate and initialize the Earth Engine API\n",
    "try:\n",
    "    ee.Initialize(project=EE_PROJECT)\n",
    "except Exception as e:\n",
    "    ee.Authenticate()\n",
    "    ee.Initialize(project=EE_PROJECT)\n",
    "\n",
    "# Define the bounding box coordinates\n",
    "bounding_box = ee.Geometry.Rectangle([\n",
    "    -62.8387399200105, -33.6022342842935 ,  # Lower Left (longitude, latitude)\n",
    "    -62.3371495659001, -32.936870128906    # Upper Right (longitude, latitude)\n",
    "])\n",
    "\n",
    "# Load Google Earth Engine datasets\n",
    "# Dynamic World dataset (Sentinel-2 derived)\n",
    "dynamic_world = ee.ImageCollection('GOOGLE/DYNAMICWORLD/V1')\n",
    "\n",
    "# ESA WorldCover dataset (Land Cover)\n",
    "esa_worldcover = ee.ImageCollection(\"ESA/WorldCover/v200\")\n",
    "\n",
    "# Define a date range for filtering the Dynamic World dataset\n",
    "start_date = '2019-01-01'\n",
    "end_date = '2019-06-01'\n",
    "\n",
    "# # Filter Dynamic World for the bounding box and time range\n",
    "# dw_filtered = dynamic_world.filterBounds(bounding_box).filterDate(start_date, end_date)\n",
    "\n",
    "# # Get the median land cover for Dynamic World\n",
    "# dw_median = dw_filtered.median().clip(bounding_box)\n",
    "\n",
    "\n",
    "\n",
    "# # Export Dynamic World median image to Google Drive as a COG\n",
    "# dw_task = ee.batch.Export.image.toDrive(\n",
    "#     image=dw_median.toFloat(),\n",
    "#     description='Dynamic_World_COG',\n",
    "#     folder='EarthEngineExports',\n",
    "#     fileNamePrefix='Dynamic_World_LULC',\n",
    "#     region=bounding_box.getInfo()['coordinates'],\n",
    "#     scale=5,  # Adjust scale (spatial resolution) as required\n",
    "#     crs='EPSG:4326',\n",
    "#     fileFormat='GeoTIFF',\n",
    "#     formatOptions={\n",
    "#         'cloudOptimized': True\n",
    "#     },\n",
    "#     maxPixels=1e13  # Set the maximum number of pixels\n",
    "# )\n",
    "# dw_task.start()\n",
    "\n",
    "# Get the latest ESA Land Cover image\n",
    "esa_image = esa_worldcover.filterBounds(bounding_box).first().clip(bounding_box)\n",
    "\n",
    "# Export ESA Land Cover image to Google Drive as a COG\n",
    "esa_task = ee.batch.Export.image.toDrive(\n",
    "    image = esa_image.toFloat(),\n",
    "    description='ESA_LandCover_COG',\n",
    "    folder='EarthEngineExports',\n",
    "    fileNamePrefix='ESA_LandCover',\n",
    "    region=bounding_box.getInfo()['coordinates'],\n",
    "    scale=5,  # Adjust scale (spatial resolution) as required\n",
    "    crs='EPSG:4326',\n",
    "    fileFormat='GeoTIFF',\n",
    "    formatOptions={\n",
    "        'cloudOptimized': True\n",
    "    },\n",
    "    maxPixels=1e13  # Set the maximum number of pixels\n",
    ")\n",
    "esa_task.start()\n",
    "\n",
    "# Suivi de la tâche\n",
    "while esa_task.active():\n",
    "    print('Tâche en cours...')\n",
    "    time.sleep(10)\n",
    "\n",
    "print('État final de la tâche :')\n",
    "pprint.pprint(esa_task.status())\n",
    "\n",
    "# Check the task status\n",
    "# print('Dynamic World export task:', dw_task.status())\n",
    "print('ESA Land Cover export task:', esa_task.status())\n"
   ]
  }
 ],
 "metadata": {
  "colab": {
   "include_colab_link": true,
   "provenance": []
  },
  "kernelspec": {
   "display_name": "claymodel",
   "language": "python",
   "name": "python3"
  },
  "language_info": {
   "codemirror_mode": {
    "name": "ipython",
    "version": 3
   },
   "file_extension": ".py",
   "mimetype": "text/x-python",
   "name": "python",
   "nbconvert_exporter": "python",
   "pygments_lexer": "ipython3",
   "version": "3.11.10"
  }
 },
 "nbformat": 4,
 "nbformat_minor": 0
}
