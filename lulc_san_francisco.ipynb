{
  "nbformat": 4,
  "nbformat_minor": 0,
  "metadata": {
    "colab": {
      "provenance": [],
      "include_colab_link": true
    },
    "kernelspec": {
      "name": "python3",
      "display_name": "Python 3"
    },
    "language_info": {
      "name": "python"
    }
  },
  "cells": [
    {
      "cell_type": "markdown",
      "metadata": {
        "id": "view-in-github",
        "colab_type": "text"
      },
      "source": [
        "<a href=\"https://colab.research.google.com/github/rhedouin/Polymetric_landcover/blob/main/lulc_san_francisco.ipynb\" target=\"_parent\"><img src=\"https://colab.research.google.com/assets/colab-badge.svg\" alt=\"Open In Colab\"/></a>"
      ]
    },
    {
      "cell_type": "code",
      "source": [
        "# Install required packages\n",
        "!pip install -q earthengine-api geemap"
      ],
      "metadata": {
        "id": "AXQQkUS1Ewjd"
      },
      "execution_count": null,
      "outputs": []
    },
    {
      "cell_type": "code",
      "source": [
        "# Change this to your EE Project (find your project name at https://code.earthengine.google.com/)\n",
        "EE_PROJECT='ee-eo4datascience'"
      ],
      "metadata": {
        "id": "IudxRtAxFSrc"
      },
      "execution_count": null,
      "outputs": []
    },
    {
      "cell_type": "code",
      "execution_count": null,
      "metadata": {
        "colab": {
          "base_uri": "https://localhost:8080/",
          "height": 74
        },
        "id": "LZktu6r_Ejkt",
        "outputId": "1d499950-eab5-46ac-e3f0-be0101955d3a"
      },
      "outputs": [
        {
          "output_type": "display_data",
          "data": {
            "text/plain": [
              "<IPython.core.display.HTML object>"
            ],
            "text/html": [
              "\n",
              "            <style>\n",
              "                .geemap-dark {\n",
              "                    --jp-widgets-color: white;\n",
              "                    --jp-widgets-label-color: white;\n",
              "                    --jp-ui-font-color1: white;\n",
              "                    --jp-layout-color2: #454545;\n",
              "                    background-color: #383838;\n",
              "                }\n",
              "\n",
              "                .geemap-dark .jupyter-button {\n",
              "                    --jp-layout-color3: #383838;\n",
              "                }\n",
              "\n",
              "                .geemap-colab {\n",
              "                    background-color: var(--colab-primary-surface-color, white);\n",
              "                }\n",
              "\n",
              "                .geemap-colab .jupyter-button {\n",
              "                    --jp-layout-color3: var(--colab-primary-surface-color, white);\n",
              "                }\n",
              "            </style>\n",
              "            "
            ]
          },
          "metadata": {}
        },
        {
          "output_type": "stream",
          "name": "stdout",
          "text": [
            "Dynamic World export task: {'state': 'READY', 'description': 'Dynamic_World_COG', 'priority': 100, 'creation_timestamp_ms': 1733994161067, 'update_timestamp_ms': 1733994161067, 'start_timestamp_ms': 0, 'task_type': 'EXPORT_IMAGE', 'id': 'Y7EIAPCMTTPFWA4E4IV7KUAB', 'name': 'projects/ee-eo4datascience/operations/Y7EIAPCMTTPFWA4E4IV7KUAB'}\n",
            "ESA Land Cover export task: {'state': 'READY', 'description': 'ESA_LandCover_COG', 'priority': 100, 'creation_timestamp_ms': 1733994161783, 'update_timestamp_ms': 1733994161783, 'start_timestamp_ms': 0, 'task_type': 'EXPORT_IMAGE', 'id': 'JR7ADDR63OUY37I3PPVCTP26', 'name': 'projects/ee-eo4datascience/operations/JR7ADDR63OUY37I3PPVCTP26'}\n"
          ]
        }
      ],
      "source": [
        "# Import required libraries\n",
        "import ee\n",
        "import geemap\n",
        "from datetime import datetime\n",
        "\n",
        "# Authenticate and initialize the Earth Engine API\n",
        "try:\n",
        "    ee.Initialize(project=EE_PROJECT)\n",
        "except Exception as e:\n",
        "    ee.Authenticate()\n",
        "    ee.Initialize(project=EE_PROJECT)\n",
        "\n",
        "# Define the bounding box coordinates\n",
        "bounding_box = ee.Geometry.Rectangle([\n",
        "    -125.0004161, 34.9995834,  # Lower Left (longitude, latitude)\n",
        "    -119.9995827, 40.0004167   # Upper Right (longitude, latitude)\n",
        "])\n",
        "\n",
        "# Load Google Earth Engine datasets\n",
        "# Dynamic World dataset (Sentinel-2 derived)\n",
        "dynamic_world = ee.ImageCollection('GOOGLE/DYNAMICWORLD/V1')\n",
        "\n",
        "# ESA WorldCover dataset (Land Cover)\n",
        "esa_worldcover = ee.ImageCollection(\"ESA/WorldCover/v200\")\n",
        "\n",
        "# Define a date range for filtering the Dynamic World dataset\n",
        "start_date = '2021-01-01'\n",
        "end_date = '2021-12-31'\n",
        "\n",
        "# Filter Dynamic World for the bounding box and time range\n",
        "dw_filtered = dynamic_world.filterBounds(bounding_box).filterDate(start_date, end_date)\n",
        "\n",
        "# Get the median land cover for Dynamic World\n",
        "dw_median = dw_filtered.median().clip(bounding_box)\n",
        "\n",
        "# Get the latest ESA Land Cover image\n",
        "esa_image = esa_worldcover.filterBounds(bounding_box).first().clip(bounding_box)\n",
        "\n",
        "# Export Dynamic World median image to Google Drive as a COG\n",
        "dw_task = ee.batch.Export.image.toDrive(\n",
        "    image=dw_median.toFloat(),\n",
        "    description='Dynamic_World_COG',\n",
        "    folder='EarthEngineExports',\n",
        "    fileNamePrefix='Dynamic_World_LULC',\n",
        "    region=bounding_box.getInfo()['coordinates'],\n",
        "    scale=10,  # Adjust scale (spatial resolution) as required\n",
        "    crs='EPSG:4326',\n",
        "    fileFormat='GeoTIFF',\n",
        "    formatOptions={\n",
        "        'cloudOptimized': True\n",
        "    },\n",
        "    maxPixels=1e13  # Set the maximum number of pixels\n",
        ")\n",
        "dw_task.start()\n",
        "\n",
        "# Export ESA Land Cover image to Google Drive as a COG\n",
        "esa_task = ee.batch.Export.image.toDrive(\n",
        "    image=esa_image.toFloat(),\n",
        "    description='ESA_LandCover_COG',\n",
        "    folder='EarthEngineExports',\n",
        "    fileNamePrefix='ESA_LandCover',\n",
        "    region=bounding_box.getInfo()['coordinates'],\n",
        "    scale=10,  # Adjust scale (spatial resolution) as required\n",
        "    crs='EPSG:4326',\n",
        "    fileFormat='GeoTIFF',\n",
        "    formatOptions={\n",
        "        'cloudOptimized': True\n",
        "    },\n",
        "    maxPixels=1e13  # Set the maximum number of pixels\n",
        ")\n",
        "esa_task.start()\n",
        "\n",
        "# Check the task status\n",
        "print('Dynamic World export task:', dw_task.status())\n",
        "print('ESA Land Cover export task:', esa_task.status())\n"
      ]
    },
    {
      "cell_type": "code",
      "source": [],
      "metadata": {
        "id": "YsZTQ1IiF7V6"
      },
      "execution_count": null,
      "outputs": []
    }
  ]
}